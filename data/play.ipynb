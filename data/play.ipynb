{
 "cells": [
  {
   "cell_type": "code",
   "execution_count": 11,
   "metadata": {},
   "outputs": [
    {
     "name": "stderr",
     "output_type": "stream",
     "text": [
      "/usr/local/lib/python3.10/site-packages/tqdm/auto.py:21: TqdmWarning: IProgress not found. Please update jupyter and ipywidgets. See https://ipywidgets.readthedocs.io/en/stable/user_install.html\n",
      "  from .autonotebook import tqdm as notebook_tqdm\n"
     ]
    }
   ],
   "source": [
    "import pandas as pd\n",
    "import datasets"
   ]
  },
  {
   "cell_type": "code",
   "execution_count": 10,
   "metadata": {},
   "outputs": [
    {
     "data": {
      "text/html": [
       "<div>\n",
       "<style scoped>\n",
       "    .dataframe tbody tr th:only-of-type {\n",
       "        vertical-align: middle;\n",
       "    }\n",
       "\n",
       "    .dataframe tbody tr th {\n",
       "        vertical-align: top;\n",
       "    }\n",
       "\n",
       "    .dataframe thead th {\n",
       "        text-align: right;\n",
       "    }\n",
       "</style>\n",
       "<table border=\"1\" class=\"dataframe\">\n",
       "  <thead>\n",
       "    <tr style=\"text-align: right;\">\n",
       "      <th></th>\n",
       "      <th>volume_id</th>\n",
       "      <th>book_id</th>\n",
       "      <th>chapter_id</th>\n",
       "      <th>verse_id</th>\n",
       "      <th>volume_title</th>\n",
       "      <th>book_title</th>\n",
       "      <th>volume_long_title</th>\n",
       "      <th>book_long_title</th>\n",
       "      <th>volume_subtitle</th>\n",
       "      <th>book_subtitle</th>\n",
       "      <th>volume_short_title</th>\n",
       "      <th>book_short_title</th>\n",
       "      <th>volume_lds_url</th>\n",
       "      <th>book_lds_url</th>\n",
       "      <th>chapter_number</th>\n",
       "      <th>verse_number</th>\n",
       "      <th>scripture_text</th>\n",
       "      <th>verse_title</th>\n",
       "      <th>verse_short_title</th>\n",
       "    </tr>\n",
       "  </thead>\n",
       "  <tbody>\n",
       "    <tr>\n",
       "      <th>0</th>\n",
       "      <td>3</td>\n",
       "      <td>67</td>\n",
       "      <td>1190</td>\n",
       "      <td>31103</td>\n",
       "      <td>Book of Mormon</td>\n",
       "      <td>1 Nephi</td>\n",
       "      <td>The Book of Mormon</td>\n",
       "      <td>The First Book of Nephi</td>\n",
       "      <td>Another Testament of Jesus Christ</td>\n",
       "      <td>His Reign and Ministry</td>\n",
       "      <td>BoM</td>\n",
       "      <td>1 Ne.</td>\n",
       "      <td>bofm</td>\n",
       "      <td>1-ne</td>\n",
       "      <td>1</td>\n",
       "      <td>1</td>\n",
       "      <td>I, Nephi, having been born of goodly parents, ...</td>\n",
       "      <td>1 Nephi 1:1</td>\n",
       "      <td>1 Ne. 1:1</td>\n",
       "    </tr>\n",
       "    <tr>\n",
       "      <th>1</th>\n",
       "      <td>3</td>\n",
       "      <td>67</td>\n",
       "      <td>1190</td>\n",
       "      <td>31104</td>\n",
       "      <td>Book of Mormon</td>\n",
       "      <td>1 Nephi</td>\n",
       "      <td>The Book of Mormon</td>\n",
       "      <td>The First Book of Nephi</td>\n",
       "      <td>Another Testament of Jesus Christ</td>\n",
       "      <td>His Reign and Ministry</td>\n",
       "      <td>BoM</td>\n",
       "      <td>1 Ne.</td>\n",
       "      <td>bofm</td>\n",
       "      <td>1-ne</td>\n",
       "      <td>1</td>\n",
       "      <td>2</td>\n",
       "      <td>Yea, I make a record in the language of my fat...</td>\n",
       "      <td>1 Nephi 1:2</td>\n",
       "      <td>1 Ne. 1:2</td>\n",
       "    </tr>\n",
       "    <tr>\n",
       "      <th>2</th>\n",
       "      <td>3</td>\n",
       "      <td>67</td>\n",
       "      <td>1190</td>\n",
       "      <td>31105</td>\n",
       "      <td>Book of Mormon</td>\n",
       "      <td>1 Nephi</td>\n",
       "      <td>The Book of Mormon</td>\n",
       "      <td>The First Book of Nephi</td>\n",
       "      <td>Another Testament of Jesus Christ</td>\n",
       "      <td>His Reign and Ministry</td>\n",
       "      <td>BoM</td>\n",
       "      <td>1 Ne.</td>\n",
       "      <td>bofm</td>\n",
       "      <td>1-ne</td>\n",
       "      <td>1</td>\n",
       "      <td>3</td>\n",
       "      <td>And I know that the record which I make is tru...</td>\n",
       "      <td>1 Nephi 1:3</td>\n",
       "      <td>1 Ne. 1:3</td>\n",
       "    </tr>\n",
       "    <tr>\n",
       "      <th>3</th>\n",
       "      <td>3</td>\n",
       "      <td>67</td>\n",
       "      <td>1190</td>\n",
       "      <td>31106</td>\n",
       "      <td>Book of Mormon</td>\n",
       "      <td>1 Nephi</td>\n",
       "      <td>The Book of Mormon</td>\n",
       "      <td>The First Book of Nephi</td>\n",
       "      <td>Another Testament of Jesus Christ</td>\n",
       "      <td>His Reign and Ministry</td>\n",
       "      <td>BoM</td>\n",
       "      <td>1 Ne.</td>\n",
       "      <td>bofm</td>\n",
       "      <td>1-ne</td>\n",
       "      <td>1</td>\n",
       "      <td>4</td>\n",
       "      <td>For it came to pass in the commencement of the...</td>\n",
       "      <td>1 Nephi 1:4</td>\n",
       "      <td>1 Ne. 1:4</td>\n",
       "    </tr>\n",
       "    <tr>\n",
       "      <th>4</th>\n",
       "      <td>3</td>\n",
       "      <td>67</td>\n",
       "      <td>1190</td>\n",
       "      <td>31107</td>\n",
       "      <td>Book of Mormon</td>\n",
       "      <td>1 Nephi</td>\n",
       "      <td>The Book of Mormon</td>\n",
       "      <td>The First Book of Nephi</td>\n",
       "      <td>Another Testament of Jesus Christ</td>\n",
       "      <td>His Reign and Ministry</td>\n",
       "      <td>BoM</td>\n",
       "      <td>1 Ne.</td>\n",
       "      <td>bofm</td>\n",
       "      <td>1-ne</td>\n",
       "      <td>1</td>\n",
       "      <td>5</td>\n",
       "      <td>Wherefore it came to pass that my father, Lehi...</td>\n",
       "      <td>1 Nephi 1:5</td>\n",
       "      <td>1 Ne. 1:5</td>\n",
       "    </tr>\n",
       "  </tbody>\n",
       "</table>\n",
       "</div>"
      ],
      "text/plain": [
       "   volume_id  book_id  chapter_id  verse_id    volume_title book_title  \\\n",
       "0          3       67        1190     31103  Book of Mormon    1 Nephi   \n",
       "1          3       67        1190     31104  Book of Mormon    1 Nephi   \n",
       "2          3       67        1190     31105  Book of Mormon    1 Nephi   \n",
       "3          3       67        1190     31106  Book of Mormon    1 Nephi   \n",
       "4          3       67        1190     31107  Book of Mormon    1 Nephi   \n",
       "\n",
       "    volume_long_title          book_long_title  \\\n",
       "0  The Book of Mormon  The First Book of Nephi   \n",
       "1  The Book of Mormon  The First Book of Nephi   \n",
       "2  The Book of Mormon  The First Book of Nephi   \n",
       "3  The Book of Mormon  The First Book of Nephi   \n",
       "4  The Book of Mormon  The First Book of Nephi   \n",
       "\n",
       "                     volume_subtitle           book_subtitle  \\\n",
       "0  Another Testament of Jesus Christ  His Reign and Ministry   \n",
       "1  Another Testament of Jesus Christ  His Reign and Ministry   \n",
       "2  Another Testament of Jesus Christ  His Reign and Ministry   \n",
       "3  Another Testament of Jesus Christ  His Reign and Ministry   \n",
       "4  Another Testament of Jesus Christ  His Reign and Ministry   \n",
       "\n",
       "  volume_short_title book_short_title volume_lds_url book_lds_url  \\\n",
       "0                BoM            1 Ne.           bofm         1-ne   \n",
       "1                BoM            1 Ne.           bofm         1-ne   \n",
       "2                BoM            1 Ne.           bofm         1-ne   \n",
       "3                BoM            1 Ne.           bofm         1-ne   \n",
       "4                BoM            1 Ne.           bofm         1-ne   \n",
       "\n",
       "   chapter_number  verse_number  \\\n",
       "0               1             1   \n",
       "1               1             2   \n",
       "2               1             3   \n",
       "3               1             4   \n",
       "4               1             5   \n",
       "\n",
       "                                      scripture_text  verse_title  \\\n",
       "0  I, Nephi, having been born of goodly parents, ...  1 Nephi 1:1   \n",
       "1  Yea, I make a record in the language of my fat...  1 Nephi 1:2   \n",
       "2  And I know that the record which I make is tru...  1 Nephi 1:3   \n",
       "3  For it came to pass in the commencement of the...  1 Nephi 1:4   \n",
       "4  Wherefore it came to pass that my father, Lehi...  1 Nephi 1:5   \n",
       "\n",
       "  verse_short_title  \n",
       "0         1 Ne. 1:1  \n",
       "1         1 Ne. 1:2  \n",
       "2         1 Ne. 1:3  \n",
       "3         1 Ne. 1:4  \n",
       "4         1 Ne. 1:5  "
      ]
     },
     "execution_count": 10,
     "metadata": {},
     "output_type": "execute_result"
    }
   ],
   "source": [
    "df = pd.read_csv(\"./lds-scriptures-cleaned.csv\")\n",
    "df.head()"
   ]
  },
  {
   "cell_type": "code",
   "execution_count": 13,
   "metadata": {},
   "outputs": [
    {
     "data": {
      "text/plain": [
       "['full_data', 'train', 'test']"
      ]
     },
     "execution_count": 13,
     "metadata": {},
     "output_type": "execute_result"
    }
   ],
   "source": [
    "# test loading our huggingface dataset \n",
    "dataset = datasets.get_dataset_split_names(\"jbrazzy/book_of_mormon_corpus\")\n",
    "dataset"
   ]
  },
  {
   "cell_type": "code",
   "execution_count": 14,
   "metadata": {},
   "outputs": [
    {
     "name": "stdout",
     "output_type": "stream",
     "text": [
      "Downloading and preparing dataset None/None to /Users/jabras/.cache/huggingface/datasets/jbrazzy___parquet/jbrazzy--book_of_mormon_corpus-aeca1c2650d6b9e7/0.0.0/2a3b91fbd88a2c90d1dbbb32b460cf621d31bd5b05b934492fdef7d8d6f236ec...\n"
     ]
    },
    {
     "name": "stderr",
     "output_type": "stream",
     "text": [
      "Downloading data: 100%|██████████| 855k/855k [00:00<00:00, 19.1MB/s]\n",
      "Downloading data: 100%|██████████| 197k/197k [00:00<00:00, 10.4MB/s]]\n",
      "Downloading data: 100%|██████████| 693k/693k [00:00<00:00, 22.3MB/s]]\n",
      "Downloading data files: 100%|██████████| 3/3 [00:01<00:00,  1.94it/s]\n",
      "Extracting data files: 100%|██████████| 3/3 [00:00<00:00, 495.29it/s]\n",
      "                                                                           "
     ]
    },
    {
     "name": "stdout",
     "output_type": "stream",
     "text": [
      "Dataset parquet downloaded and prepared to /Users/jabras/.cache/huggingface/datasets/jbrazzy___parquet/jbrazzy--book_of_mormon_corpus-aeca1c2650d6b9e7/0.0.0/2a3b91fbd88a2c90d1dbbb32b460cf621d31bd5b05b934492fdef7d8d6f236ec. Subsequent calls will reuse this data.\n"
     ]
    },
    {
     "name": "stderr",
     "output_type": "stream",
     "text": [
      "\r"
     ]
    }
   ],
   "source": [
    "train_dataset = datasets.load_dataset(\"jbrazzy/book_of_mormon_corpus\", split=\"train\")"
   ]
  },
  {
   "cell_type": "code",
   "execution_count": 16,
   "metadata": {},
   "outputs": [
    {
     "data": {
      "text/plain": [
       "Dataset({\n",
       "    features: ['volume_id', 'book_id', 'chapter_id', 'verse_id', 'volume_title', 'book_title', 'volume_long_title', 'book_long_title', 'volume_subtitle', 'book_subtitle', 'volume_short_title', 'book_short_title', 'volume_lds_url', 'book_lds_url', 'chapter_number', 'verse_number', 'scripture_text', 'verse_title', 'verse_short_title'],\n",
       "    num_rows: 5240\n",
       "})"
      ]
     },
     "execution_count": 16,
     "metadata": {},
     "output_type": "execute_result"
    }
   ],
   "source": [
    "train_dataset"
   ]
  },
  {
   "cell_type": "code",
   "execution_count": null,
   "metadata": {},
   "outputs": [],
   "source": []
  }
 ],
 "metadata": {
  "kernelspec": {
   "display_name": "Python 3",
   "language": "python",
   "name": "python3"
  },
  "language_info": {
   "codemirror_mode": {
    "name": "ipython",
    "version": 3
   },
   "file_extension": ".py",
   "mimetype": "text/x-python",
   "name": "python",
   "nbconvert_exporter": "python",
   "pygments_lexer": "ipython3",
   "version": "3.10.9"
  },
  "orig_nbformat": 4,
  "vscode": {
   "interpreter": {
    "hash": "aee8b7b246df8f9039afb4144a1f6fd8d2ca17a180786b69acc140d282b71a49"
   }
  }
 },
 "nbformat": 4,
 "nbformat_minor": 2
}
